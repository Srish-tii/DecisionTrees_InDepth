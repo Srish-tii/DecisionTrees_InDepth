{
  "nbformat": 4,
  "nbformat_minor": 0,
  "metadata": {
    "colab": {
      "provenance": []
    },
    "kernelspec": {
      "name": "python3",
      "display_name": "Python 3"
    },
    "language_info": {
      "name": "python"
    }
  },
  "cells": [
    {
      "cell_type": "code",
      "execution_count": 1,
      "metadata": {
        "colab": {
          "base_uri": "https://localhost:8080/"
        },
        "id": "ZPv2WEC2vDLl",
        "outputId": "808f1dbd-59f8-407a-d8a8-532f9614c754"
      },
      "outputs": [
        {
          "output_type": "stream",
          "name": "stdout",
          "text": [
            "y_test: [0, 1, 1]\n"
          ]
        }
      ],
      "source": [
        "import numpy as np\n",
        "from collections import Counter\n",
        "\n",
        "class DecisionTreeNode:\n",
        "    def __init__(self, feat_num=None, threshold=None, left=None, right=None, pred_class=None, prob_class1=None):\n",
        "        self.left, self.right = left, right\n",
        "        self.pred_class, self.prob_class1 = pred_class, prob_class1\n",
        "        self.feat_num = feat_num\n",
        "        self.threshold = threshold\n",
        "\n",
        "def find_best_split(X, y):\n",
        "    best_split = None\n",
        "    best_gain = -1\n",
        "\n",
        "    for j in range(X.shape[1]):\n",
        "        unique_val = np.unique(X[:, j])\n",
        "        for c in unique_val:\n",
        "            l_index = X[:, j] >= c\n",
        "            r_index = X[:, j] < c\n",
        "            splits = [{'subset': y[l_index]}, {'subset': y[r_index]}]\n",
        "\n",
        "            gain_ratio = igratio(y, splits)\n",
        "            if gain_ratio > best_gain:\n",
        "                best_gain = gain_ratio\n",
        "                best_split = {'feat_num': j, 'threshold': c, 'splits': splits}\n",
        "\n",
        "    return best_split\n",
        "\n",
        "def entropy(y):\n",
        "    if (len(y) == 0):\n",
        "        return 0\n",
        "    counts = np.bincount(y)\n",
        "    prob = counts / len(y)\n",
        "    return -np.sum([p * np.log2(p) for p in prob if p > 0])\n",
        "\n",
        "def igratio(y, splits):\n",
        "    total_entropy = entropy(y)\n",
        "    weighted_entropy = split_info = 0\n",
        "\n",
        "    for i in splits:\n",
        "        subset = i['subset']\n",
        "        split_weight = len(subset) / len(y)\n",
        "        weighted_entropy += split_weight * entropy(subset)\n",
        "        if split_weight > 0:\n",
        "          split_info -= split_weight * np.log2(split_weight)\n",
        "        else:\n",
        "          split_info -=0\n",
        "\n",
        "    gain = total_entropy - weighted_entropy\n",
        "    if split_info == 0:\n",
        "        return 0\n",
        "    return gain / split_info\n",
        "\n",
        "def build_dtree(X, y):\n",
        "    if len(np.unique(y)) == 1:\n",
        "        return DecisionTreeNode(pred_class=y[0], prob_class1=1 if y[0] == 1 else 0)\n",
        "\n",
        "    if len(y) == 0:\n",
        "        return DecisionTreeNode(pred_class=1)\n",
        "    best_split = find_best_split(X, y)\n",
        "\n",
        "    if best_split is None or best_split['splits'][0]['subset'].size == 0 or best_split['splits'][1]['subset'].size == 0:\n",
        "        return DecisionTreeNode(pred_class=1 if np.sum(y) >= len(y) / 2 else 0)\n",
        "\n",
        "    left_node = build_dtree(X[best_split['splits'][0]['subset']], best_split['splits'][0]['subset'])\n",
        "    right_node = build_dtree(X[best_split['splits'][1]['subset']], best_split['splits'][1]['subset'])\n",
        "\n",
        "    return DecisionTreeNode(feat_num=best_split['feat_num'], threshold=best_split['threshold'], left=left_node, right=right_node)\n",
        "\n",
        "def predict_tree(node, x):\n",
        "    if node.pred_class is not None:\n",
        "        return node.pred_class\n",
        "\n",
        "    if x[node.feat_num] >= node.threshold:\n",
        "        return predict_tree(node.left, x)\n",
        "    else:\n",
        "        return predict_tree(node.right, x)\n",
        "\n",
        "#Testing the code:\n",
        "\n",
        "x = np.array([[1, 1], [0, 1], [2, 6], [0, 6]])\n",
        "y = np.array([0, 1, 1, 0])\n",
        "x_test = np.array([[1, 3], [0, 0], [0, 6]])\n",
        "\n",
        "root_node = build_dtree(x, y)\n",
        "print(\"y_test:\", [predict_tree(root_node, i) for i in x_test])"
      ]
    },
    {
      "cell_type": "code",
      "source": [],
      "metadata": {
        "id": "pU0munF3vQsU"
      },
      "execution_count": null,
      "outputs": []
    }
  ]
}